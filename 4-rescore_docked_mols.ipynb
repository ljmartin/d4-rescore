{
 "cells": [
  {
   "cell_type": "code",
   "execution_count": 1,
   "id": "ca27d5b7-36bb-4b64-a1f3-28da6a28a4c0",
   "metadata": {},
   "outputs": [],
   "source": [
    "from rdkit import Chem\n",
    "from rdkit.Chem import Draw, AllChem\n",
    "\n",
    "\n",
    "import pandas as pd\n",
    "import numpy as np\n",
    "import matplotlib.pyplot as plt\n",
    "from scipy.stats import spearmanr, pearsonr\n",
    "\n",
    "import os\n",
    "from tqdm.notebook import tqdm\n",
    "import py3Dmol\n",
    "\n",
    "import oddt\n",
    "from oddt.scoring.functions.PLECscore import PLECscore\n",
    "from oddt.scoring.functions import RFScore\n",
    "from oddt.scoring.functions import NNScore\n",
    "\n",
    "def plot_scores(x, y):\n",
    "    fig, ax = plt.subplots()\n",
    "    ax.scatter(x, y, label=f'Spearman: { np.around(spearmanr(x,y)[0],3)}')\n",
    "    ax.axhline(50, c='k', linestyle='--')\n",
    "    ax.axhline(0, c='gray', linestyle='-')\n",
    "    ax.axhline(100, c='gray', linestyle='-')\n",
    "    ax.set_xlabel(x.name)\n",
    "    ax.set_ylabel(y.name)\n",
    "    ax.legend()\n",
    "    return fig, ax\n",
    "\n",
    "def viewProt(mol, view=None):\n",
    "    if view is None:\n",
    "        view = py3Dmol.view()\n",
    "    view.addModel(Chem.MolToMolBlock(mol), \"sdf\")\n",
    "    view.addStyle({\"model\": 0}, {\"stick\": {\"colorscheme\": \"orangeCarbon\"}})\n",
    "    view.zoomTo()\n",
    "    return view"
   ]
  },
  {
   "cell_type": "markdown",
   "id": "bc6019d0-2508-4d78-b501-ba346e9f6493",
   "metadata": {},
   "source": [
    "# Load inhibition data from Lyu et al\n"
   ]
  },
  {
   "cell_type": "code",
   "execution_count": 2,
   "id": "b78bf8df-1da6-4de5-ba07-90aba947d2b0",
   "metadata": {},
   "outputs": [
    {
     "data": {
      "text/plain": [
       "(<Figure size 432x288 with 1 Axes>,\n",
       " <AxesSubplot:xlabel='Energy', ylabel='Inhibition (%) at 10uM'>)"
      ]
     },
     "execution_count": 2,
     "metadata": {},
     "output_type": "execute_result"
    },
    {
     "data": {
      "image/png": "[encoded data removed]",
      "text/plain": [
       "<Figure size 432x288 with 1 Axes>"
      ]
     },
     "metadata": {
      "needs_background": "light"
     },
     "output_type": "display_data"
    }
   ],
   "source": [
    "df = pd.read_csv('./data/41586_2019_917_MOESM4_ESM.csv',).iloc[:-4]\n",
    "df['Inhibition (%) at 10uM'] = df['Inhibition (%) at 10uM'].astype(float)\n",
    "\n",
    "plot_scores(df['Energy'], df['Inhibition (%) at 10uM'])\n"
   ]
  },
  {
   "cell_type": "markdown",
   "id": "20cfc191-eb66-4eee-8973-ce68f626fde8",
   "metadata": {},
   "source": [
    "# Load docked structures"
   ]
  },
  {
   "cell_type": "code",
   "execution_count": 3,
   "id": "f8e69b6b-8b9a-485f-a351-e6b1348de3e4",
   "metadata": {},
   "outputs": [],
   "source": [
    "def load_sdf(fname):\n",
    "    mols = []\n",
    "    with Chem.SDMolSupplier(fname) as sup:\n",
    "        for m in sup:\n",
    "            if m is not None:\n",
    "                mols.append(m)\n",
    "    names = [m.GetProp('_Name') for m in mols]\n",
    "    affinities = [float(m.GetProp('minimizedAffinity')) for m in mols]\n",
    "    return pd.DataFrame({'mol':mols, 'ZINC ID':names, 'Smina Score':affinities})\n"
   ]
  },
  {
   "cell_type": "code",
   "execution_count": 4,
   "id": "f6899fbb-c274-4c0c-85aa-2f8f78a7652a",
   "metadata": {
    "tags": []
   },
   "outputs": [
    {
     "name": "stderr",
     "output_type": "stream",
     "text": [
      "RDKit ERROR: [15:45:19] Explicit valence for atom # 4 N, 4, is greater than permitted\n",
      "[15:45:19] Explicit valence for atom # 4 N, 4, is greater than permitted\n",
      "RDKit ERROR: [15:45:19] ERROR: Could not sanitize molecule ending on line 873123\n",
      "RDKit ERROR: [15:45:19] ERROR: Explicit valence for atom # 4 N, 4, is greater than permitted\n",
      "RDKit ERROR: [15:45:19] Explicit valence for atom # 4 N, 4, is greater than permitted\n",
      "RDKit ERROR: [15:45:19] ERROR: Could not sanitize molecule ending on line 873186\n",
      "RDKit ERROR: [15:45:19] ERROR: Explicit valence for atom # 4 N, 4, is greater than permitted\n",
      "RDKit ERROR: [15:45:19] Explicit valence for atom # 4 N, 4, is greater than permitted\n",
      "RDKit ERROR: [15:45:19] ERROR: Could not sanitize molecule ending on line 873249\n",
      "RDKit ERROR: [15:45:19] ERROR: Explicit valence for atom # 4 N, 4, is greater than permitted\n",
      "RDKit ERROR: [15:45:19] Explicit valence for atom # 4 N, 4, is greater than permitted\n",
      "RDKit ERROR: [15:45:19] ERROR: Could not sanitize molecule ending on line 873312\n",
      "RDKit ERROR: [15:45:19] ERROR: Explicit valence for atom # 4 N, 4, is greater than permitted\n",
      "RDKit ERROR: [15:45:19] Explicit valence for atom # 4 N, 4, is greater than permitted\n",
      "RDKit ERROR: [15:45:19] ERROR: Could not sanitize molecule ending on line 873375\n",
      "RDKit ERROR: [15:45:19] ERROR: Explicit valence for atom # 4 N, 4, is greater than permitted\n",
      "RDKit ERROR: [15:45:19] Explicit valence for atom # 4 N, 4, is greater than permitted\n",
      "RDKit ERROR: [15:45:19] ERROR: Could not sanitize molecule ending on line 873438\n",
      "RDKit ERROR: [15:45:19] ERROR: Explicit valence for atom # 4 N, 4, is greater than permitted\n",
      "RDKit ERROR: [15:45:19] Explicit valence for atom # 4 N, 4, is greater than permitted\n",
      "RDKit ERROR: [15:45:19] ERROR: Could not sanitize molecule ending on line 873501\n",
      "RDKit ERROR: [15:45:19] ERROR: Explicit valence for atom # 4 N, 4, is greater than permitted\n",
      "RDKit ERROR: [15:45:19] Explicit valence for atom # 4 N, 4, is greater than permitted\n",
      "RDKit ERROR: [15:45:19] ERROR: Could not sanitize molecule ending on line 873564\n",
      "RDKit ERROR: [15:45:19] ERROR: Explicit valence for atom # 4 N, 4, is greater than permitted\n",
      "RDKit ERROR: [15:45:19] Explicit valence for atom # 4 N, 4, is greater than permitted\n",
      "RDKit ERROR: [15:45:19] ERROR: Could not sanitize molecule ending on line 873627\n",
      "RDKit ERROR: [15:45:19] ERROR: Explicit valence for atom # 4 N, 4, is greater than permitted\n",
      "RDKit ERROR: [15:45:19] Explicit valence for atom # 4 N, 4, is greater than permitted\n",
      "RDKit ERROR: [15:45:19] ERROR: Could not sanitize molecule ending on line 874266\n",
      "RDKit ERROR: [15:45:19] ERROR: Explicit valence for atom # 4 N, 4, is greater than permitted\n",
      "RDKit ERROR: [15:45:19] Explicit valence for atom # 4 N, 4, is greater than permitted\n",
      "RDKit ERROR: [15:45:19] ERROR: Could not sanitize molecule ending on line 874329\n",
      "RDKit ERROR: [15:45:19] ERROR: Explicit valence for atom # 4 N, 4, is greater than permitted\n",
      "RDKit ERROR: [15:45:19] Explicit valence for atom # 4 N, 4, is greater than permitted\n",
      "RDKit ERROR: [15:45:19] ERROR: Could not sanitize molecule ending on line 874392\n",
      "RDKit ERROR: [15:45:19] ERROR: Explicit valence for atom # 4 N, 4, is greater than permitted\n",
      "RDKit ERROR: [15:45:19] Explicit valence for atom # 4 N, 4, is greater than permitted\n",
      "RDKit ERROR: [15:45:19] ERROR: Could not sanitize molecule ending on line 874455\n",
      "RDKit ERROR: [15:45:19] ERROR: Explicit valence for atom # 4 N, 4, is greater than permitted\n",
      "RDKit ERROR: [15:45:19] Explicit valence for atom # 4 N, 4, is greater than permitted\n",
      "RDKit ERROR: [15:45:19] ERROR: Could not sanitize molecule ending on line 874518\n",
      "RDKit ERROR: [15:45:19] ERROR: Explicit valence for atom # 4 N, 4, is greater than permitted\n",
      "RDKit ERROR: [15:45:19] Explicit valence for atom # 4 N, 4, is greater than permitted\n",
      "RDKit ERROR: [15:45:19] ERROR: Could not sanitize molecule ending on line 874581\n",
      "RDKit ERROR: [15:45:19] ERROR: Explicit valence for atom # 4 N, 4, is greater than permitted\n",
      "RDKit ERROR: [15:45:19] Explicit valence for atom # 4 N, 4, is greater than permitted\n",
      "RDKit ERROR: [15:45:19] ERROR: Could not sanitize molecule ending on line 874644\n",
      "RDKit ERROR: [15:45:19] ERROR: Explicit valence for atom # 4 N, 4, is greater than permitted\n",
      "RDKit ERROR: [15:45:19] Explicit valence for atom # 4 N, 4, is greater than permitted\n",
      "RDKit ERROR: [15:45:19] ERROR: Could not sanitize molecule ending on line 874707\n",
      "RDKit ERROR: [15:45:19] ERROR: Explicit valence for atom # 4 N, 4, is greater than permitted\n",
      "RDKit ERROR: [15:45:19] Explicit valence for atom # 4 N, 4, is greater than permitted\n",
      "RDKit ERROR: [15:45:19] ERROR: Could not sanitize molecule ending on line 874770\n",
      "RDKit ERROR: [15:45:19] ERROR: Explicit valence for atom # 4 N, 4, is greater than permitted\n",
      "RDKit ERROR: [15:45:19] Explicit valence for atom # 4 N, 4, is greater than permitted\n",
      "RDKit ERROR: [15:45:19] ERROR: Could not sanitize molecule ending on line 875409\n",
      "RDKit ERROR: [15:45:19] ERROR: Explicit valence for atom # 4 N, 4, is greater than permitted\n",
      "RDKit ERROR: [15:45:19] Explicit valence for atom # 4 N, 4, is greater than permitted\n",
      "RDKit ERROR: [15:45:19] ERROR: Could not sanitize molecule ending on line 875472\n",
      "RDKit ERROR: [15:45:19] ERROR: Explicit valence for atom # 4 N, 4, is greater than permitted\n",
      "RDKit ERROR: [15:45:19] Explicit valence for atom # 4 N, 4, is greater than permitted\n",
      "RDKit ERROR: [15:45:19] ERROR: Could not sanitize molecule ending on line 875535\n",
      "RDKit ERROR: [15:45:19] ERROR: Explicit valence for atom # 4 N, 4, is greater than permitted\n",
      "RDKit ERROR: [15:45:19] Explicit valence for atom # 4 N, 4, is greater than permitted\n",
      "RDKit ERROR: [15:45:19] ERROR: Could not sanitize molecule ending on line 875598\n",
      "RDKit ERROR: [15:45:19] ERROR: Explicit valence for atom # 4 N, 4, is greater than permitted\n",
      "RDKit ERROR: [15:45:19] Explicit valence for atom # 4 N, 4, is greater than permitted\n",
      "RDKit ERROR: [15:45:19] ERROR: Could not sanitize molecule ending on line 875661\n",
      "RDKit ERROR: [15:45:19] ERROR: Explicit valence for atom # 4 N, 4, is greater than permitted\n",
      "RDKit ERROR: [15:45:19] Explicit valence for atom # 4 N, 4, is greater than permitted\n",
      "RDKit ERROR: [15:45:19] ERROR: Could not sanitize molecule ending on line 875724\n",
      "RDKit ERROR: [15:45:19] ERROR: Explicit valence for atom # 4 N, 4, is greater than permitted\n",
      "RDKit ERROR: [15:45:19] Explicit valence for atom # 4 N, 4, is greater than permitted\n",
      "RDKit ERROR: [15:45:19] ERROR: Could not sanitize molecule ending on line 875787\n",
      "RDKit ERROR: [15:45:19] ERROR: Explicit valence for atom # 4 N, 4, is greater than permitted\n",
      "RDKit ERROR: [15:45:19] Explicit valence for atom # 4 N, 4, is greater than permitted\n",
      "RDKit ERROR: [15:45:19] ERROR: Could not sanitize molecule ending on line 875850\n",
      "RDKit ERROR: [15:45:19] ERROR: Explicit valence for atom # 4 N, 4, is greater than permitted\n",
      "RDKit ERROR: [15:45:19] Explicit valence for atom # 4 N, 4, is greater than permitted\n",
      "RDKit ERROR: [15:45:19] ERROR: Could not sanitize molecule ending on line 875913\n",
      "[15:45:19] ERROR: Could not sanitize molecule ending on line 873123\n",
      "[15:45:19] ERROR: Explicit valence for atom # 4 N, 4, is greater than permitted\n",
      "[15:45:19] Explicit valence for atom # 4 N, 4, is greater than permitted\n",
      "[15:45:19] ERROR: Could not sanitize molecule ending on line 873186\n",
      "[15:45:19] ERROR: Explicit valence for atom # 4 N, 4, is greater than permitted\n",
      "[15:45:19] Explicit valence for atom # 4 N, 4, is greater than permitted\n",
      "[15:45:19] ERROR: Could not sanitize molecule ending on line 873249\n",
      "[15:45:19] ERROR: Explicit valence for atom # 4 N, 4, is greater than permitted\n",
      "[15:45:19] Explicit valence for atom # 4 N, 4, is greater than permitted\n",
      "[15:45:19] ERROR: Could not sanitize molecule ending on line 873312\n",
      "[15:45:19] ERROR: Explicit valence for atom # 4 N, 4, is greater than permitted\n",
      "[15:45:19] Explicit valence for atom # 4 N, 4, is greater than permitted\n",
      "[15:45:19] ERROR: Could not sanitize molecule ending on line 873375\n",
      "[15:45:19] ERROR: Explicit valence for atom # 4 N, 4, is greater than permitted\n",
      "[15:45:19] Explicit valence for atom # 4 N, 4, is greater than permitted\n",
      "[15:45:19] ERROR: Could not sanitize molecule ending on line 873438\n",
      "[15:45:19] ERROR: Explicit valence for atom # 4 N, 4, is greater than permitted\n",
      "[15:45:19] Explicit valence for atom # 4 N, 4, is greater than permitted\n",
      "[15:45:19] ERROR: Could not sanitize molecule ending on line 873501\n",
      "[15:45:19] ERROR: Explicit valence for atom # 4 N, 4, is greater than permitted\n",
      "[15:45:19] Explicit valence for atom # 4 N, 4, is greater than permitted\n",
      "[15:45:19] ERROR: Could not sanitize molecule ending on line 873564\n",
      "[15:45:19] ERROR: Explicit valence for atom # 4 N, 4, is greater than permitted\n",
      "[15:45:19] Explicit valence for atom # 4 N, 4, is greater than permitted\n",
      "[15:45:19] ERROR: Could not sanitize molecule ending on line 873627\n",
      "[15:45:19] ERROR: Explicit valence for atom # 4 N, 4, is greater than permitted\n",
      "[15:45:19] Explicit valence for atom # 4 N, 4, is greater than permitted\n",
      "[15:45:19] ERROR: Could not sanitize molecule ending on line 874266\n",
      "[15:45:19] ERROR: Explicit valence for atom # 4 N, 4, is greater than permitted\n",
      "[15:45:19] Explicit valence for atom # 4 N, 4, is greater than permitted\n",
      "[15:45:19] ERROR: Could not sanitize molecule ending on line 874329\n",
      "[15:45:19] ERROR: Explicit valence for atom # 4 N, 4, is greater than permitted\n",
      "[15:45:19] Explicit valence for atom # 4 N, 4, is greater than permitted\n",
      "[15:45:19] ERROR: Could not sanitize molecule ending on line 874392\n",
      "[15:45:19] ERROR: Explicit valence for atom # 4 N, 4, is greater than permitted\n",
      "[15:45:19] Explicit valence for atom # 4 N, 4, is greater than permitted\n",
      "[15:45:19] ERROR: Could not sanitize molecule ending on line 874455\n",
      "[15:45:19] ERROR: Explicit valence for atom # 4 N, 4, is greater than permitted\n",
      "[15:45:19] Explicit valence for atom # 4 N, 4, is greater than permitted\n",
      "[15:45:19] ERROR: Could not sanitize molecule ending on line 874518\n",
      "[15:45:19] ERROR: Explicit valence for atom # 4 N, 4, is greater than permitted\n",
      "[15:45:19] Explicit valence for atom # 4 N, 4, is greater than permitted\n",
      "[15:45:19] ERROR: Could not sanitize molecule ending on line 874581\n",
      "[15:45:19] ERROR: Explicit valence for atom # 4 N, 4, is greater than permitted\n",
      "[15:45:19] Explicit valence for atom # 4 N, 4, is greater than permitted\n",
      "[15:45:19] ERROR: Could not sanitize molecule ending on line 874644\n",
      "[15:45:19] ERROR: Explicit valence for atom # 4 N, 4, is greater than permitted\n",
      "[15:45:19] Explicit valence for atom # 4 N, 4, is greater than permitted\n",
      "[15:45:19] ERROR: Could not sanitize molecule ending on line 874707\n",
      "[15:45:19] ERROR: Explicit valence for atom # 4 N, 4, is greater than permitted\n",
      "[15:45:19] Explicit valence for atom # 4 N, 4, is greater than permitted\n",
      "[15:45:19] ERROR: Could not sanitize molecule ending on line 874770\n",
      "[15:45:19] ERROR: Explicit valence for atom # 4 N, 4, is greater than permitted\n",
      "[15:45:19] Explicit valence for atom # 4 N, 4, is greater than permitted\n",
      "[15:45:19] ERROR: Could not sanitize molecule ending on line 875409\n",
      "[15:45:19] ERROR: Explicit valence for atom # 4 N, 4, is greater than permitted\n",
      "[15:45:19] Explicit valence for atom # 4 N, 4, is greater than permitted\n",
      "[15:45:19] ERROR: Could not sanitize molecule ending on line 875472\n",
      "[15:45:19] ERROR: Explicit valence for atom # 4 N, 4, is greater than permitted\n",
      "[15:45:19] Explicit valence for atom # 4 N, 4, is greater than permitted\n",
      "[15:45:19] ERROR: Could not sanitize molecule ending on line 875535\n",
      "[15:45:19] ERROR: Explicit valence for atom # 4 N, 4, is greater than permitted\n",
      "[15:45:19] Explicit valence for atom # 4 N, 4, is greater than permitted\n",
      "[15:45:19] ERROR: Could not sanitize molecule ending on line 875598\n",
      "[15:45:19] ERROR: Explicit valence for atom # 4 N, 4, is greater than permitted\n",
      "[15:45:19] Explicit valence for atom # 4 N, 4, is greater than permitted\n",
      "[15:45:19] ERROR: Could not sanitize molecule ending on line 875661\n",
      "[15:45:19] ERROR: Explicit valence for atom # 4 N, 4, is greater than permitted\n",
      "[15:45:19] Explicit valence for atom # 4 N, 4, is greater than permitted\n",
      "[15:45:19] ERROR: Could not sanitize molecule ending on line 875724\n",
      "[15:45:19] ERROR: Explicit valence for atom # 4 N, 4, is greater than permitted\n",
      "[15:45:19] Explicit valence for atom # 4 N, 4, is greater than permitted\n",
      "[15:45:19] ERROR: Could not sanitize molecule ending on line 875787\n",
      "[15:45:19] ERROR: Explicit valence for atom # 4 N, 4, is greater than permitted\n",
      "[15:45:19] Explicit valence for atom # 4 N, 4, is greater than permitted\n",
      "[15:45:19] ERROR: Could not sanitize molecule ending on line 875850\n",
      "[15:45:19] ERROR: Explicit valence for atom # 4 N, 4, is greater than permitted\n",
      "[15:45:19] Explicit valence for atom # 4 N, 4, is greater than permitted\n",
      "[15:45:19] ERROR: Could not sanitize molecule ending on line 875913\n"
     ]
    }
   ],
   "source": [
    "mols_df = load_sdf('./data/ligands3d_docked.sdf')\n",
    "#note; a few of the Gypsum-treated molecules can't be read by RDKit.\n",
    "#could possibly be due to smina using obabel to convert to pdbqt and back?\n",
    "mols_gypsum_df = load_sdf('./data/ligands3d_gypsum_docked.sdf')\n",
    "mols_gypsum_df = mols_gypsum_df.rename(columns={'ZINC ID': 'ZINC ID.items'})\n",
    "mols_gypsum_df['ZINC ID'] = [i[0] for i in mols_gypsum_df['ZINC ID.items'].str.split()]"
   ]
  },
  {
   "cell_type": "markdown",
   "id": "a6ebb0f2-51cb-407e-bd6c-e490ccbdd438",
   "metadata": {},
   "source": [
    "# Add some re-scoring scores\n"
   ]
  },
  {
   "cell_type": "code",
   "execution_count": 5,
   "id": "a12e1604-cf0e-4ea2-8d38-d840f4c028d6",
   "metadata": {},
   "outputs": [],
   "source": [
    "def re_score(method, mols):\n",
    "    \"\"\"\n",
    "    Method is one of: \n",
    "    - PLEClinear_p5_l1_s65536\n",
    "    - rfscore_v1\n",
    "    - nnscore\n",
    "    \"\"\"\n",
    "    rescorers = {'PLEClinear_p5_l1_s65536':PLECscore('rf'),\n",
    "                'rfscore_v1':RFScore.rfscore(),\n",
    "                'nnscore':NNScore.nnscore()}\n",
    "    \n",
    "    pickles = {'PLEClinear_p5_l1_s65536':'./data/PLEClinear_p5_l1_pdbbind2016_s65536.pickle',\n",
    "               'rfscore_v1':'./data/RFScore_v1_pdbbind2016.pickle',\n",
    "               'nnscore':'./data/NNScore_pdbbind2016.pickle'}\n",
    "\n",
    "    scorer = rescorers[method]\n",
    "\n",
    "    if os.path.isfile(pickles[method]):\n",
    "        scorer = scorer.load(pickles[method])\n",
    "    else:\n",
    "        scorer.train()\n",
    "    \n",
    "    oddt_prot = next(oddt.toolkit.readfile('pdb', './data/proteinH.pdb'))\n",
    "    oddt_prot.protein=True \n",
    "    scorer.set_protein(oddt_prot)\n",
    "\n",
    "    re_scores = []\n",
    "\n",
    "    for m in tqdm(mols, total=len(mols)):\n",
    "        Chem.MolToMolFile(m, './temp.sdf')\n",
    "        oddt_lig = next(oddt.toolkit.readfile('sdf', './temp.sdf'))\n",
    "        scored_mol = scorer.predict_ligand(oddt_lig)\n",
    "        re_scores.append(float(scored_mol.data[method]))\n",
    "    os.remove('./temp.sdf')\n",
    "        \n",
    "    return re_scores"
   ]
  },
  {
   "cell_type": "code",
   "execution_count": 7,
   "id": "9fa5c7c8-78ef-4761-88ad-6bf0fc4dbfa1",
   "metadata": {},
   "outputs": [
    {
     "data": {
      "application/vnd.jupyter.widget-view+json": {
       "model_id": "b04d575a65814879a614ddcdd8ebb79d",
       "version_major": 2,
       "version_minor": 0
      },
      "text/plain": [
       "  0%|          | 0/4933 [00:00<?, ?it/s]"
      ]
     },
     "metadata": {},
     "output_type": "display_data"
    },
    {
     "data": {
      "application/vnd.jupyter.widget-view+json": {
       "model_id": "14f1ca43cd424240abe8afecd0c49516",
       "version_major": 2,
       "version_minor": 0
      },
      "text/plain": [
       "  0%|          | 0/4933 [00:00<?, ?it/s]"
      ]
     },
     "metadata": {},
     "output_type": "display_data"
    },
    {
     "data": {
      "application/vnd.jupyter.widget-view+json": {
       "model_id": "ef3cbd273aa84ca689afa9e6614c833f",
       "version_major": 2,
       "version_minor": 0
      },
      "text/plain": [
       "  0%|          | 0/4933 [00:00<?, ?it/s]"
      ]
     },
     "metadata": {},
     "output_type": "display_data"
    },
    {
     "data": {
      "application/vnd.jupyter.widget-view+json": {
       "model_id": "bc0319862c6d452381dc6cc2fb426779",
       "version_major": 2,
       "version_minor": 0
      },
      "text/plain": [
       "  0%|          | 0/19146 [00:00<?, ?it/s]"
      ]
     },
     "metadata": {},
     "output_type": "display_data"
    },
    {
     "data": {
      "application/vnd.jupyter.widget-view+json": {
       "model_id": "16e4ffce636d421b976bcb7d2c85c084",
       "version_major": 2,
       "version_minor": 0
      },
      "text/plain": [
       "  0%|          | 0/19146 [00:00<?, ?it/s]"
      ]
     },
     "metadata": {},
     "output_type": "display_data"
    },
    {
     "data": {
      "application/vnd.jupyter.widget-view+json": {
       "model_id": "6524659b705c4696acdd6fe42dec00d4",
       "version_major": 2,
       "version_minor": 0
      },
      "text/plain": [
       "  0%|          | 0/19146 [00:00<?, ?it/s]"
      ]
     },
     "metadata": {},
     "output_type": "display_data"
    }
   ],
   "source": [
    "rfscores = re_score('rfscore_v1',mols_df['mol'])\n",
    "plecscores = re_score('PLEClinear_p5_l1_s65536',mols_df['mol'])\n",
    "nnscores = re_score('nnscore',mols_df['mol'])\n",
    "\n",
    "rfscores_gypsum = re_score('rfscore_v1',mols_gypsum_df['mol'])\n",
    "plecscores_gypsum = re_score('PLEClinear_p5_l1_s65536',mols_gypsum_df['mol'])\n",
    "nnscores_gypsum = re_score('nnscore',mols_gypsum_df['mol'])"
   ]
  },
  {
   "cell_type": "code",
   "execution_count": 8,
   "id": "8cfb07d4-247b-4d91-8317-bf007052ebd5",
   "metadata": {},
   "outputs": [],
   "source": [
    "mols_df['RFScore'] = rfscores\n",
    "mols_df['PLECScore'] = plecscores\n",
    "mols_df['NNSCore'] = nnscores\n",
    "\n",
    "mols_gypsum_df['RFScore'] = rfscores_gypsum\n",
    "mols_gypsum_df['PLECScore'] = plecscores_gypsum\n",
    "mols_gypsum_df['NNSCore'] = nnscores_gypsum"
   ]
  },
  {
   "cell_type": "markdown",
   "id": "1517ff89-fb19-46ee-b6cc-0cd64079d8bd",
   "metadata": {},
   "source": [
    "# Add a benchmark based on similarity to the known ligand\n",
    "Benchmark just means it doesn't require machine learning and is readily available to anyone, but the original work is clever and sophisticated - see [this blog post by Greg Landrum](http://rdkit.blogspot.com/2017/11/using-feature-maps.html) for references."
   ]
  },
  {
   "cell_type": "code",
   "execution_count": 9,
   "id": "b9dcd59a-e2a7-4313-b0c8-4c712448b695",
   "metadata": {},
   "outputs": [],
   "source": [
    "# set up the reference ligand feature map:\n",
    "\n",
    "from rdkit import RDConfig\n",
    "from rdkit.Chem.FeatMaps import FeatMaps\n",
    "import requests\n",
    "\n",
    "pdb = Chem.MolFromPDBFile('./data/AQD_ligand.pdb')\n",
    "aqd_smi = 'C[C@@H]1[C@@H](CCN1Cc2ccccc2)NC(=O)c3cc(c(cc3OC)NC)Cl'\n",
    "aqd_mol = Chem.MolFromSmiles(aqd_smi)\n",
    "pdb = AllChem.AssignBondOrdersFromTemplate(aqd_mol, pdb)\n",
    "\n",
    "# grab a feature definition file from the RDKit's contrib dir in github:\n",
    "res = requests.get('https://raw.githubusercontent.com/rdkit/rdkit/master/Contrib/M_Kossner/BaseFeatures_DIP2_NoMicrospecies.fdef')\n",
    "fdef = res.text\n",
    "factory = Chem.ChemicalFeatures.BuildFeatureFactoryFromString(fdef)\n",
    "#make the features for the reference molecule:\n",
    "feats = factory.GetFeaturesForMol(pdb)\n",
    "fmParams = {}\n",
    "for k in factory.GetFeatureFamilies():\n",
    "    fparams = FeatMaps.FeatMapParams()\n",
    "    fmParams[k] = fparams\n",
    "    \n",
    "wts = [1 for _ in feats]\n",
    "fms = FeatMaps.FeatMap(feats=feats, weights=wts, params=fmParams)"
   ]
  },
  {
   "cell_type": "code",
   "execution_count": 11,
   "id": "e33d33fa-5267-4364-bc08-ba8f39e574ba",
   "metadata": {},
   "outputs": [
    {
     "data": {
      "application/vnd.jupyter.widget-view+json": {
       "model_id": "62ca92c8bbf54f7ba205af7d1679ac10",
       "version_major": 2,
       "version_minor": 0
      },
      "text/plain": [
       "  0%|          | 0/4933 [00:00<?, ?it/s]"
      ]
     },
     "metadata": {},
     "output_type": "display_data"
    },
    {
     "data": {
      "application/vnd.jupyter.widget-view+json": {
       "model_id": "f742da5adce346b792918b1f0a53e325",
       "version_major": 2,
       "version_minor": 0
      },
      "text/plain": [
       "  0%|          | 0/19146 [00:00<?, ?it/s]"
      ]
     },
     "metadata": {},
     "output_type": "display_data"
    }
   ],
   "source": [
    "def get_fmvs(fms, mols):\n",
    "    fmvs = []\n",
    "    for mol in tqdm(mols):\n",
    "        qfeat= factory.GetFeaturesForMol(mol)    \n",
    "        fmv = fms.ScoreFeats(qfeat) / fms.GetNumFeatures() \n",
    "        fmvs.append(fmv)\n",
    "    return fmvs\n",
    "\n",
    "fmvs = get_fmvs(fms, mols_df['mol'])\n",
    "fmvs_gypsum = get_fmvs(fms, mols_gypsum_df['mol'])\n"
   ]
  },
  {
   "cell_type": "code",
   "execution_count": 12,
   "id": "f0d0841c-ee4b-4c23-bf87-9a1d01c55670",
   "metadata": {},
   "outputs": [],
   "source": [
    "mols_df['Feature Map Vector score'] = fmvs\n",
    "mols_gypsum_df['Feature Map Vector score'] = fmvs_gypsum"
   ]
  },
  {
   "cell_type": "markdown",
   "id": "e3e57318-8463-43ab-8e1a-a6e087ef16aa",
   "metadata": {},
   "source": [
    "# Add RFScore-VS-v1\n",
    "This can't be run in a notebook - but there is a binary available [at this repo](https://github.com/oddt/rfscorevs_binary). Run command is (for example):\n",
    "\n",
    "```\n",
    "cd ./data/\n",
    "path_to_binary/rf-score-vs_v1/rf-score-vs --receptor ./proteinH.pdb ./ligands3d_docked.sdf -O ./rfscorevs.csv\n",
    "path_to_binary/rf-score-vs_v1/rf-score-vs --receptor ./proteinH.pdb ./ligands3d_gypsum_docked.sdf -O ./rfscorevs_gypsum.csv\n",
    "```\n",
    "\n"
   ]
  },
  {
   "cell_type": "code",
   "execution_count": 124,
   "id": "63ac375e-a7d9-43da-8e98-93881b1af024",
   "metadata": {},
   "outputs": [],
   "source": [
    "rf_score_vs = pd.read_csv('./data/rfscorevs.csv')\n",
    "rf_score_vs_gypsum = pd.read_csv('./data/rfscorevs_gypsum.csv')\n",
    "\n",
    "\n",
    "mols_df['RF Score VS'] = rf_score_vs['RFScoreVS_v2']\n",
    "mols_gypsum_df['RF Score VS'] = rf_score_vs_gypsum['RFScoreVS_v2']"
   ]
  },
  {
   "cell_type": "markdown",
   "id": "8ae9f731-36f7-4e37-b58c-8429d2c478fb",
   "metadata": {},
   "source": [
    "# Plot the outcomes\n",
    "\n",
    "For each re-scoring technique, we sort in order of best->worst, retain only the best-scoring conformer, and merge this with the inhibition data frame. Plotting the ROCs, and calculating some metrics, reveals which re-scoring technique performs best on these data."
   ]
  },
  {
   "cell_type": "code",
   "execution_count": 126,
   "id": "e875fb89-4114-476d-b877-99b82c37e139",
   "metadata": {},
   "outputs": [
    {
     "data": {
      "image/png": "[encoded data removed]",
      "text/plain": [
       "<Figure size 720x504 with 1 Axes>"
      ]
     },
     "metadata": {
      "needs_background": "light"
     },
     "output_type": "display_data"
    }
   ],
   "source": [
    "from sklearn.metrics import average_precision_score as avp\n",
    "from sklearn.metrics import plot_precision_recall_curve, roc_curve\n",
    "from oddt import metrics\n",
    "\n",
    "results = []\n",
    "plt.figure(figsize=(10,7))\n",
    "for col, ascending in zip(\n",
    "    ['Smina Score', 'RFScore', 'PLECScore', 'NNSCore', 'Feature Map Vector score','RF Score VS'],\n",
    "    [True, False, False, False, False, False]\n",
    "):\n",
    "    \n",
    "    srtd = mols_df.sort_values(col, ascending=ascending).drop_duplicates('ZINC ID')\n",
    "    merged= srtd.merge(df[['ZINC ID', 'Inhibition (%) at 10uM']])\n",
    "    labels = merged['Inhibition (%) at 10uM']>50\n",
    "    preds = merged[col]\n",
    "    \n",
    "    \n",
    "    fpr, tpr, thresholds= roc_curve(labels, preds)\n",
    "    plt.plot(fpr, tpr, label=col)\n",
    "    \n",
    "    bedroc = metrics.bedroc(labels.values, merged[col].values)\n",
    "    rie = metrics.rie(labels.values, merged[col].values)\n",
    "    roc_log_auc = metrics.roc_log_auc(labels.values, merged[col].values, ascending_score=ascending)\n",
    "    roc_auc = metrics.roc_auc(labels.values, merged[col].values, ascending_score=ascending)\n",
    "    \n",
    "    ap = avp(labels,  preds*(-1 if ascending else 1))\n",
    "    \n",
    "    results.append([col, bedroc, rie, roc_log_auc, roc_auc, ap])\n",
    "plt.legend()\n",
    "\n",
    "plt.savefig('./figs/rocs.svg')"
   ]
  },
  {
   "cell_type": "code",
   "execution_count": 127,
   "id": "94518648-c25e-4e60-a67b-4def3714c1d0",
   "metadata": {},
   "outputs": [],
   "source": [
    "results_df = pd.DataFrame(data=results, columns=['Algorithm', 'BEDROC', 'RIE', 'log ROC AUC', 'ROC AUC', 'Average Precision'])"
   ]
  },
  {
   "cell_type": "code",
   "execution_count": 128,
   "id": "3edc6991-a0fc-4baf-bfcb-936f652e654f",
   "metadata": {},
   "outputs": [
    {
     "data": {
      "text/html": [
       "<style type=\"text/css\">\n",
       "#T_35d1d_row4_col0, #T_35d1d_row4_col1, #T_35d1d_row4_col2, #T_35d1d_row4_col3, #T_35d1d_row4_col4 {\n",
       "  background-color: lightgreen;\n",
       "}\n",
       "</style>\n",
       "<table id=\"T_35d1d_\">\n",
       "  <thead>\n",
       "    <tr>\n",
       "      <th class=\"blank level0\" >&nbsp;</th>\n",
       "      <th class=\"col_heading level0 col0\" >BEDROC</th>\n",
       "      <th class=\"col_heading level0 col1\" >RIE</th>\n",
       "      <th class=\"col_heading level0 col2\" >log ROC AUC</th>\n",
       "      <th class=\"col_heading level0 col3\" >ROC AUC</th>\n",
       "      <th class=\"col_heading level0 col4\" >Average Precision</th>\n",
       "    </tr>\n",
       "    <tr>\n",
       "      <th class=\"index_name level0\" >Algorithm</th>\n",
       "      <th class=\"blank col0\" >&nbsp;</th>\n",
       "      <th class=\"blank col1\" >&nbsp;</th>\n",
       "      <th class=\"blank col2\" >&nbsp;</th>\n",
       "      <th class=\"blank col3\" >&nbsp;</th>\n",
       "      <th class=\"blank col4\" >&nbsp;</th>\n",
       "    </tr>\n",
       "  </thead>\n",
       "  <tbody>\n",
       "    <tr>\n",
       "      <th id=\"T_35d1d_level0_row0\" class=\"row_heading level0 row0\" >Smina Score</th>\n",
       "      <td id=\"T_35d1d_row0_col0\" class=\"data row0 col0\" >0.307874</td>\n",
       "      <td id=\"T_35d1d_row0_col1\" class=\"data row0 col1\" >1.369165</td>\n",
       "      <td id=\"T_35d1d_row0_col2\" class=\"data row0 col2\" >0.173498</td>\n",
       "      <td id=\"T_35d1d_row0_col3\" class=\"data row0 col3\" >0.542481</td>\n",
       "      <td id=\"T_35d1d_row0_col4\" class=\"data row0 col4\" >0.271476</td>\n",
       "    </tr>\n",
       "    <tr>\n",
       "      <th id=\"T_35d1d_level0_row1\" class=\"row_heading level0 row1\" >RFScore</th>\n",
       "      <td id=\"T_35d1d_row1_col0\" class=\"data row1 col0\" >0.186356</td>\n",
       "      <td id=\"T_35d1d_row1_col1\" class=\"data row1 col1\" >0.828755</td>\n",
       "      <td id=\"T_35d1d_row1_col2\" class=\"data row1 col2\" >0.116837</td>\n",
       "      <td id=\"T_35d1d_row1_col3\" class=\"data row1 col3\" >0.422736</td>\n",
       "      <td id=\"T_35d1d_row1_col4\" class=\"data row1 col4\" >0.195528</td>\n",
       "    </tr>\n",
       "    <tr>\n",
       "      <th id=\"T_35d1d_level0_row2\" class=\"row_heading level0 row2\" >PLECScore</th>\n",
       "      <td id=\"T_35d1d_row2_col0\" class=\"data row2 col0\" >0.281182</td>\n",
       "      <td id=\"T_35d1d_row2_col1\" class=\"data row2 col1\" >1.250461</td>\n",
       "      <td id=\"T_35d1d_row2_col2\" class=\"data row2 col2\" >0.178505</td>\n",
       "      <td id=\"T_35d1d_row2_col3\" class=\"data row2 col3\" >0.584079</td>\n",
       "      <td id=\"T_35d1d_row2_col4\" class=\"data row2 col4\" >0.271272</td>\n",
       "    </tr>\n",
       "    <tr>\n",
       "      <th id=\"T_35d1d_level0_row3\" class=\"row_heading level0 row3\" >NNSCore</th>\n",
       "      <td id=\"T_35d1d_row3_col0\" class=\"data row3 col0\" >0.223528</td>\n",
       "      <td id=\"T_35d1d_row3_col1\" class=\"data row3 col1\" >0.994065</td>\n",
       "      <td id=\"T_35d1d_row3_col2\" class=\"data row3 col2\" >0.145951</td>\n",
       "      <td id=\"T_35d1d_row3_col3\" class=\"data row3 col3\" >0.509464</td>\n",
       "      <td id=\"T_35d1d_row3_col4\" class=\"data row3 col4\" >0.228881</td>\n",
       "    </tr>\n",
       "    <tr>\n",
       "      <th id=\"T_35d1d_level0_row4\" class=\"row_heading level0 row4\" >Feature Map Vector score</th>\n",
       "      <td id=\"T_35d1d_row4_col0\" class=\"data row4 col0\" >0.439266</td>\n",
       "      <td id=\"T_35d1d_row4_col1\" class=\"data row4 col1\" >1.953485</td>\n",
       "      <td id=\"T_35d1d_row4_col2\" class=\"data row4 col2\" >0.233527</td>\n",
       "      <td id=\"T_35d1d_row4_col3\" class=\"data row4 col3\" >0.649096</td>\n",
       "      <td id=\"T_35d1d_row4_col4\" class=\"data row4 col4\" >0.359716</td>\n",
       "    </tr>\n",
       "    <tr>\n",
       "      <th id=\"T_35d1d_level0_row5\" class=\"row_heading level0 row5\" >RF Score VS</th>\n",
       "      <td id=\"T_35d1d_row5_col0\" class=\"data row5 col0\" >0.180401</td>\n",
       "      <td id=\"T_35d1d_row5_col1\" class=\"data row5 col1\" >0.802271</td>\n",
       "      <td id=\"T_35d1d_row5_col2\" class=\"data row5 col2\" >0.142105</td>\n",
       "      <td id=\"T_35d1d_row5_col3\" class=\"data row5 col3\" >0.505730</td>\n",
       "      <td id=\"T_35d1d_row5_col4\" class=\"data row5 col4\" >0.225434</td>\n",
       "    </tr>\n",
       "  </tbody>\n",
       "</table>\n"
      ],
      "text/plain": [
       "<pandas.io.formats.style.Styler at 0x1fc645af0>"
      ]
     },
     "execution_count": 128,
     "metadata": {},
     "output_type": "execute_result"
    }
   ],
   "source": [
    "results_df.set_index('Algorithm').style.highlight_max(color = 'lightgreen', axis = 0)"
   ]
  },
  {
   "cell_type": "markdown",
   "id": "c6d4649b-6ef1-4415-b6da-efe18a61c1e6",
   "metadata": {},
   "source": [
    "# The gypsum-treated molecules:\n"
   ]
  },
  {
   "cell_type": "code",
   "execution_count": 151,
   "id": "bcfbe83f-d1db-400a-950e-42ad40a41cbe",
   "metadata": {},
   "outputs": [
    {
     "data": {
      "image/png": "[encoded data removed]",
      "text/plain": [
       "<Figure size 720x504 with 1 Axes>"
      ]
     },
     "metadata": {
      "needs_background": "light"
     },
     "output_type": "display_data"
    }
   ],
   "source": [
    "results_gypsum = []\n",
    "plt.figure(figsize=(10,7))\n",
    "for col, ascending in zip(\n",
    "    ['Smina Score', 'RFScore', 'PLECScore', 'NNSCore', 'Feature Map Vector score','RF Score VS'],\n",
    "    [True, False, False, False, False, False]\n",
    "):\n",
    "    \n",
    "    srtd = mols_gypsum_df.sort_values(col, ascending=ascending).drop_duplicates('ZINC ID')\n",
    "    merged= srtd.merge(df[['ZINC ID', 'Inhibition (%) at 10uM']])\n",
    "    labels = merged['Inhibition (%) at 10uM']>50\n",
    "    preds = merged[col]\n",
    "    \n",
    "    \n",
    "    fpr, tpr, thresholds= roc_curve(labels, preds*(-1 if ascending else 1))\n",
    "    plt.plot(fpr, tpr, label=col)\n",
    "    \n",
    "    bedroc = metrics.bedroc(labels.values, merged[col].values)\n",
    "    rie = metrics.rie(labels.values, merged[col].values)\n",
    "    roc_log_auc = metrics.roc_log_auc(labels.values, merged[col].values, ascending_score=ascending)\n",
    "    roc_auc = metrics.roc_auc(labels.values, merged[col].values, ascending_score=ascending)\n",
    "    \n",
    "    ap = avp(labels,  preds*(-1 if ascending else 1))\n",
    "    \n",
    "    results_gypsum.append([col, bedroc, rie, roc_log_auc, roc_auc, ap])\n",
    "plt.legend()\n",
    "\n",
    "plt.savefig('./figs/rocs_gypsum.svg')"
   ]
  },
  {
   "cell_type": "code",
   "execution_count": 152,
   "id": "23396c8a-6885-464d-9a95-2b8faeb2956c",
   "metadata": {},
   "outputs": [
    {
     "data": {
      "text/html": [
       "<style type=\"text/css\">\n",
       "#T_f0c6b_row4_col0, #T_f0c6b_row4_col1, #T_f0c6b_row4_col2, #T_f0c6b_row4_col3, #T_f0c6b_row4_col4 {\n",
       "  background-color: lightgreen;\n",
       "}\n",
       "</style>\n",
       "<table id=\"T_f0c6b_\">\n",
       "  <thead>\n",
       "    <tr>\n",
       "      <th class=\"blank level0\" >&nbsp;</th>\n",
       "      <th class=\"col_heading level0 col0\" >BEDROC</th>\n",
       "      <th class=\"col_heading level0 col1\" >RIE</th>\n",
       "      <th class=\"col_heading level0 col2\" >log ROC AUC</th>\n",
       "      <th class=\"col_heading level0 col3\" >ROC AUC</th>\n",
       "      <th class=\"col_heading level0 col4\" >Average Precision</th>\n",
       "    </tr>\n",
       "    <tr>\n",
       "      <th class=\"index_name level0\" >Algorithm</th>\n",
       "      <th class=\"blank col0\" >&nbsp;</th>\n",
       "      <th class=\"blank col1\" >&nbsp;</th>\n",
       "      <th class=\"blank col2\" >&nbsp;</th>\n",
       "      <th class=\"blank col3\" >&nbsp;</th>\n",
       "      <th class=\"blank col4\" >&nbsp;</th>\n",
       "    </tr>\n",
       "  </thead>\n",
       "  <tbody>\n",
       "    <tr>\n",
       "      <th id=\"T_f0c6b_level0_row0\" class=\"row_heading level0 row0\" >Smina Score</th>\n",
       "      <td id=\"T_f0c6b_row0_col0\" class=\"data row0 col0\" >0.276897</td>\n",
       "      <td id=\"T_f0c6b_row0_col1\" class=\"data row0 col1\" >1.238894</td>\n",
       "      <td id=\"T_f0c6b_row0_col2\" class=\"data row0 col2\" >0.161958</td>\n",
       "      <td id=\"T_f0c6b_row0_col3\" class=\"data row0 col3\" >0.537964</td>\n",
       "      <td id=\"T_f0c6b_row0_col4\" class=\"data row0 col4\" >0.248890</td>\n",
       "    </tr>\n",
       "    <tr>\n",
       "      <th id=\"T_f0c6b_level0_row1\" class=\"row_heading level0 row1\" >RFScore</th>\n",
       "      <td id=\"T_f0c6b_row1_col0\" class=\"data row1 col0\" >0.193804</td>\n",
       "      <td id=\"T_f0c6b_row1_col1\" class=\"data row1 col1\" >0.867121</td>\n",
       "      <td id=\"T_f0c6b_row1_col2\" class=\"data row1 col2\" >0.117978</td>\n",
       "      <td id=\"T_f0c6b_row1_col3\" class=\"data row1 col3\" >0.425281</td>\n",
       "      <td id=\"T_f0c6b_row1_col4\" class=\"data row1 col4\" >0.195885</td>\n",
       "    </tr>\n",
       "    <tr>\n",
       "      <th id=\"T_f0c6b_level0_row2\" class=\"row_heading level0 row2\" >PLECScore</th>\n",
       "      <td id=\"T_f0c6b_row2_col0\" class=\"data row2 col0\" >0.215919</td>\n",
       "      <td id=\"T_f0c6b_row2_col1\" class=\"data row2 col1\" >0.966067</td>\n",
       "      <td id=\"T_f0c6b_row2_col2\" class=\"data row2 col2\" >0.154239</td>\n",
       "      <td id=\"T_f0c6b_row2_col3\" class=\"data row2 col3\" >0.537461</td>\n",
       "      <td id=\"T_f0c6b_row2_col4\" class=\"data row2 col4\" >0.237679</td>\n",
       "    </tr>\n",
       "    <tr>\n",
       "      <th id=\"T_f0c6b_level0_row3\" class=\"row_heading level0 row3\" >NNSCore</th>\n",
       "      <td id=\"T_f0c6b_row3_col0\" class=\"data row3 col0\" >0.222201</td>\n",
       "      <td id=\"T_f0c6b_row3_col1\" class=\"data row3 col1\" >0.994176</td>\n",
       "      <td id=\"T_f0c6b_row3_col2\" class=\"data row3 col2\" >0.148586</td>\n",
       "      <td id=\"T_f0c6b_row3_col3\" class=\"data row3 col3\" >0.510945</td>\n",
       "      <td id=\"T_f0c6b_row3_col4\" class=\"data row3 col4\" >0.231993</td>\n",
       "    </tr>\n",
       "    <tr>\n",
       "      <th id=\"T_f0c6b_level0_row4\" class=\"row_heading level0 row4\" >Feature Map Vector score</th>\n",
       "      <td id=\"T_f0c6b_row4_col0\" class=\"data row4 col0\" >0.487587</td>\n",
       "      <td id=\"T_f0c6b_row4_col1\" class=\"data row4 col1\" >2.181567</td>\n",
       "      <td id=\"T_f0c6b_row4_col2\" class=\"data row4 col2\" >0.249716</td>\n",
       "      <td id=\"T_f0c6b_row4_col3\" class=\"data row4 col3\" >0.668434</td>\n",
       "      <td id=\"T_f0c6b_row4_col4\" class=\"data row4 col4\" >0.379470</td>\n",
       "    </tr>\n",
       "    <tr>\n",
       "      <th id=\"T_f0c6b_level0_row5\" class=\"row_heading level0 row5\" >RF Score VS</th>\n",
       "      <td id=\"T_f0c6b_row5_col0\" class=\"data row5 col0\" >0.245984</td>\n",
       "      <td id=\"T_f0c6b_row5_col1\" class=\"data row5 col1\" >1.100586</td>\n",
       "      <td id=\"T_f0c6b_row5_col2\" class=\"data row5 col2\" >0.149911</td>\n",
       "      <td id=\"T_f0c6b_row5_col3\" class=\"data row5 col3\" >0.512610</td>\n",
       "      <td id=\"T_f0c6b_row5_col4\" class=\"data row5 col4\" >0.232820</td>\n",
       "    </tr>\n",
       "  </tbody>\n",
       "</table>\n"
      ],
      "text/plain": [
       "<pandas.io.formats.style.Styler at 0x1fc7a4c40>"
      ]
     },
     "execution_count": 152,
     "metadata": {},
     "output_type": "execute_result"
    }
   ],
   "source": [
    "results_df_gypsum = pd.DataFrame(data=results_gypsum, columns=['Algorithm', 'BEDROC', 'RIE', 'log ROC AUC', 'ROC AUC', 'Average Precision'])\n",
    "results_df_gypsum.set_index('Algorithm').style.highlight_max(color = 'lightgreen', axis = 0)"
   ]
  },
  {
   "cell_type": "code",
   "execution_count": 154,
   "id": "8e90410d-d680-4876-9f57-b2bda812836b",
   "metadata": {},
   "outputs": [
    {
     "data": {
      "text/plain": [
       "122"
      ]
     },
     "execution_count": 154,
     "metadata": {},
     "output_type": "execute_result"
    }
   ],
   "source": [
    "(df['Inhibition (%) at 10uM']>50).sum()"
   ]
  },
  {
   "cell_type": "code",
   "execution_count": null,
   "id": "56d21458-4f00-4805-aaad-6f3eb5f9dea6",
   "metadata": {},
   "outputs": [],
   "source": []
  }
 ],
 "metadata": {
  "kernelspec": {
   "display_name": "Python 3 (ipykernel)",
   "language": "python",
   "name": "python3"
  },
  "language_info": {
   "codemirror_mode": {
    "name": "ipython",
    "version": 3
   },
   "file_extension": ".py",
   "mimetype": "text/x-python",
   "name": "python",
   "nbconvert_exporter": "python",
   "pygments_lexer": "ipython3",
   "version": "3.9.6"
  }
 },
 "nbformat": 4,
 "nbformat_minor": 5
}
