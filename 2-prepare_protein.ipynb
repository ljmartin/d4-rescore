{
 "cells": [
  {
   "cell_type": "markdown",
   "id": "ba8fd9fc-25a6-42b3-ab4d-a9cee07b72c8",
   "metadata": {},
   "source": [
    "# Protein prep:\n",
    "\n",
    "This uses the script from https://github.com/ljmartin/pdb_to_pdbqt\n",
    "\n",
    "In short, this downloads the PDB using ProDy, aligns it along the ligand's principal moments of inertia, then runs PDBFixer to add hydrogens and finally minimizes hydrogen coordinates with OpenMM using the AMBER14 forcefield. "
   ]
  },
  {
   "cell_type": "code",
   "execution_count": 1,
   "id": "5e0d3b41-775d-4412-b8cf-605624df551c",
   "metadata": {},
   "outputs": [],
   "source": [
    "import pdbfixer\n",
    "import prody\n",
    "import numpy as np\n",
    "import py3Dmol\n",
    "import qrotate\n",
    "\n"
   ]
  },
  {
   "cell_type": "markdown",
   "id": "f676eb00-e6d3-48cb-9e05-2e64be5c38d8",
   "metadata": {},
   "source": [
    "# Download:"
   ]
  },
  {
   "cell_type": "code",
   "execution_count": 2,
   "id": "6638fb58-8305-4079-8213-262de1fe6218",
   "metadata": {},
   "outputs": [
    {
     "name": "stdout",
     "output_type": "stream",
     "text": [
      "Protein atoms: 2736\n",
      "Ligand atoms: 27\n"
     ]
    }
   ],
   "source": [
    "\n",
    "fname = prody.fetchPDB('5WIU', folder='./data/')\n",
    "pdb = prody.parsePDB(fname)\n",
    "\n",
    "\n",
    "protein = pdb.select('protein and chain A')\n",
    "print(f'Protein atoms: {protein.numAtoms()}')\n",
    "\n",
    "#nemonapride has resname AQD \n",
    "ligand = pdb.select('resname AQD and chain A')\n",
    "print(f'Ligand atoms: {ligand.numAtoms()}')\n"
   ]
  },
  {
   "cell_type": "markdown",
   "id": "6091f1ce-0340-4a78-a8bf-848d27877702",
   "metadata": {},
   "source": [
    "# Alignt to ligand's PMIs"
   ]
  },
  {
   "cell_type": "code",
   "execution_count": 3,
   "id": "c6634bc6-129c-4d12-8259-5024741ed23f",
   "metadata": {},
   "outputs": [
    {
     "data": {
      "text/plain": [
       "'./data/protein.pdb'"
      ]
     },
     "execution_count": 3,
     "metadata": {},
     "output_type": "execute_result"
    }
   ],
   "source": [
    "\n",
    "\n",
    "#get coordinates of protein or ligand:\n",
    "prot_xyz = protein.getCoords()\n",
    "lig_xyz = ligand.getCoords()\n",
    "\n",
    "#centre both on the COM of the ligand:\n",
    "prot_xyz -= lig_xyz.mean(0)\n",
    "lig_xyz -= lig_xyz.mean(0)\n",
    "\n",
    "#rotate both so that ligand lies along it's principal axes:\n",
    "al = qrotate.Align()\n",
    "angles = al.align_pcl(lig_xyz, get_angles=True)\n",
    "#apply the rotation matrices:\n",
    "prot_xyz = prot_xyz.dot(angles[0]).dot(angles[1])\n",
    "lig_xyz = lig_xyz.dot(angles[0]).dot(angles[1])\n",
    "\n",
    "protein.setCoords(prot_xyz)\n",
    "ligand.setCoords(lig_xyz)\n",
    "\n",
    "prody.writePDB('./data/AQD_ligand.pdb', ligand, )\n",
    "prody.writePDB('./data/protein.pdb', protein,)\n",
    "\n"
   ]
  },
  {
   "cell_type": "markdown",
   "id": "ad57d4f7-72e0-4225-9e63-60f0ccd5e479",
   "metadata": {},
   "source": [
    "# Add missing atoms with PDBFixer"
   ]
  },
  {
   "cell_type": "code",
   "execution_count": 4,
   "id": "c3681a36-87ef-4088-90d1-2f0f00fb91c5",
   "metadata": {},
   "outputs": [],
   "source": [
    "from simtk.openmm import app\n",
    "from simtk import openmm\n",
    "from simtk import unit\n",
    "import pdbfixer\n",
    "\n",
    "\n",
    "fixer = pdbfixer.PDBFixer('./data/protein.pdb')\n",
    "fixer.findMissingResidues()\n",
    "fixer.findMissingAtoms()\n",
    "fixer.addMissingAtoms()\n",
    "fixer.addMissingHydrogens(7.0)\n"
   ]
  },
  {
   "cell_type": "markdown",
   "id": "a9e34c15-f040-4294-9417-c0a13d992738",
   "metadata": {},
   "source": [
    "# Energy-minimize hydrogen coordinates:"
   ]
  },
  {
   "cell_type": "code",
   "execution_count": 5,
   "id": "8514a9af-d63f-47eb-b6d0-3dc45c6b3a6a",
   "metadata": {},
   "outputs": [],
   "source": [
    "forcefield = app.ForceField('amber14-all.xml', 'amber14/tip3pfb.xml')\n",
    "\n",
    "system = forcefield.createSystem(fixer.topology, nonbondedMethod=app.CutoffNonPeriodic,\n",
    "         nonbondedCutoff=0.9*unit.nanometer)\n",
    "\n",
    "\n",
    "atom_elements = [atom.element.name for atom in fixer.topology.atoms()]\n",
    "for i in range(system.getNumParticles()):\n",
    "    if atom_elements[i]!='hydrogen':\n",
    "        system.setParticleMass( i, 0.0 )"
   ]
  },
  {
   "cell_type": "code",
   "execution_count": 6,
   "id": "5e437648-b4be-4379-9be6-1774f946fa9e",
   "metadata": {},
   "outputs": [],
   "source": [
    "integrator = openmm.LangevinIntegrator(298*unit.kelvin, 1/unit.picosecond, 1*unit.femtosecond)\n",
    "platform = openmm.Platform.getPlatformByName('CPU')\n",
    "\n",
    "simulation = app.Simulation(fixer.topology, system, integrator, platform)\n",
    "simulation.context.setPositions(fixer.positions)\n",
    "simulation.minimizeEnergy()\n"
   ]
  },
  {
   "cell_type": "markdown",
   "id": "65749bcd-1bea-4e06-87eb-22af5c4cb1cd",
   "metadata": {},
   "source": [
    "# Write output file:"
   ]
  },
  {
   "cell_type": "code",
   "execution_count": 7,
   "id": "4d8a0dda-ebfd-4ce1-8a93-78edf52afa64",
   "metadata": {},
   "outputs": [],
   "source": [
    "positions = simulation.context.getState(getPositions=True).getPositions()\n",
    "\n",
    "app.PDBFile.writeFile(fixer.topology, positions, open('./data/proteinH.pdb', 'w'))\n"
   ]
  },
  {
   "cell_type": "markdown",
   "id": "6e591026-51ca-41de-90f9-9d1657148652",
   "metadata": {},
   "source": [
    "# ---- end ----"
   ]
  },
  {
   "cell_type": "code",
   "execution_count": null,
   "id": "1b72f48f-e9d9-4ebf-bd58-cd7ce377ed60",
   "metadata": {},
   "outputs": [],
   "source": []
  }
 ],
 "metadata": {
  "kernelspec": {
   "display_name": "Python 3 (ipykernel)",
   "language": "python",
   "name": "python3"
  },
  "language_info": {
   "codemirror_mode": {
    "name": "ipython",
    "version": 3
   },
   "file_extension": ".py",
   "mimetype": "text/x-python",
   "name": "python",
   "nbconvert_exporter": "python",
   "pygments_lexer": "ipython3",
   "version": "3.9.6"
  }
 },
 "nbformat": 4,
 "nbformat_minor": 5
}
